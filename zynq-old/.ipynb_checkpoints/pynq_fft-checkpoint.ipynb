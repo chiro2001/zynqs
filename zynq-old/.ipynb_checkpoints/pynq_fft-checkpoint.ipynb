{
 "cells": [
  {
   "cell_type": "code",
   "execution_count": 11,
   "metadata": {
    "scrolled": false
   },
   "outputs": [
    {
     "name": "stdout",
     "output_type": "stream",
     "text": [
      "Download ok.\n"
     ]
    },
    {
     "ename": "RuntimeError",
     "evalue": "DMA channel not started",
     "output_type": "error",
     "traceback": [
      "\u001b[0;31m---------------------------------------------------------------------------\u001b[0m",
      "\u001b[0;31mRuntimeError\u001b[0m                              Traceback (most recent call last)",
      "\u001b[0;32m<ipython-input-11-4d0985861327>\u001b[0m in \u001b[0;36m<module>\u001b[0;34m()\u001b[0m\n\u001b[1;32m     58\u001b[0m \u001b[0mdma\u001b[0m\u001b[0;34m.\u001b[0m\u001b[0msendchannel\u001b[0m\u001b[0;34m.\u001b[0m\u001b[0mtransfer\u001b[0m\u001b[0;34m(\u001b[0m\u001b[0min_buf\u001b[0m\u001b[0;34m)\u001b[0m\u001b[0;34m\u001b[0m\u001b[0m\n\u001b[1;32m     59\u001b[0m \u001b[0mdma\u001b[0m\u001b[0;34m.\u001b[0m\u001b[0mrecvchannel\u001b[0m\u001b[0;34m.\u001b[0m\u001b[0mtransfer\u001b[0m\u001b[0;34m(\u001b[0m\u001b[0mout_buf\u001b[0m\u001b[0;34m)\u001b[0m\u001b[0;34m\u001b[0m\u001b[0m\n\u001b[0;32m---> 60\u001b[0;31m \u001b[0mdma\u001b[0m\u001b[0;34m.\u001b[0m\u001b[0msendchannel\u001b[0m\u001b[0;34m.\u001b[0m\u001b[0mwait\u001b[0m\u001b[0;34m(\u001b[0m\u001b[0;34m)\u001b[0m\u001b[0;34m\u001b[0m\u001b[0m\n\u001b[0m\u001b[1;32m     61\u001b[0m \u001b[0mtime\u001b[0m\u001b[0;34m.\u001b[0m\u001b[0msleep\u001b[0m\u001b[0;34m(\u001b[0m\u001b[0;36m0.3\u001b[0m\u001b[0;34m)\u001b[0m\u001b[0;34m\u001b[0m\u001b[0m\n\u001b[1;32m     62\u001b[0m \u001b[0mdma\u001b[0m\u001b[0;34m.\u001b[0m\u001b[0mrecvchannel\u001b[0m\u001b[0;34m.\u001b[0m\u001b[0mwait\u001b[0m\u001b[0;34m(\u001b[0m\u001b[0;34m)\u001b[0m\u001b[0;34m\u001b[0m\u001b[0m\n",
      "\u001b[0;32m/home/xilinx/pynq/lib/dma.py\u001b[0m in \u001b[0;36mwait\u001b[0;34m(self)\u001b[0m\n\u001b[1;32m    133\u001b[0m         \"\"\"\n\u001b[1;32m    134\u001b[0m         \u001b[0;32mif\u001b[0m \u001b[0;32mnot\u001b[0m \u001b[0mself\u001b[0m\u001b[0;34m.\u001b[0m\u001b[0mrunning\u001b[0m\u001b[0;34m:\u001b[0m\u001b[0;34m\u001b[0m\u001b[0m\n\u001b[0;32m--> 135\u001b[0;31m             \u001b[0;32mraise\u001b[0m \u001b[0mRuntimeError\u001b[0m\u001b[0;34m(\u001b[0m\u001b[0;34m'DMA channel not started'\u001b[0m\u001b[0;34m)\u001b[0m\u001b[0;34m\u001b[0m\u001b[0m\n\u001b[0m\u001b[1;32m    136\u001b[0m         \u001b[0;32mwhile\u001b[0m \u001b[0;32mnot\u001b[0m \u001b[0mself\u001b[0m\u001b[0;34m.\u001b[0m\u001b[0midle\u001b[0m\u001b[0;34m:\u001b[0m\u001b[0;34m\u001b[0m\u001b[0m\n\u001b[1;32m    137\u001b[0m             \u001b[0;32mpass\u001b[0m\u001b[0;34m\u001b[0m\u001b[0m\n",
      "\u001b[0;31mRuntimeError\u001b[0m: DMA channel not started"
     ]
    }
   ],
   "source": [
    "from pynq import Overlay\n",
    "from pynq import Xlnk\n",
    "import math\n",
    "import numpy as np\n",
    "import pynq.lib.dma\n",
    "import time\n",
    "\n",
    "FFT_MAX_NUM_PTS      = 8192\n",
    "FFT_NUM_PTS_MASK     = 0x0000001F # Bits [4:0]\n",
    "FFT_NUM_PTS_SHIFT    = 0\n",
    "FFT_FWD_INV_MASK     = 0x00000100 # Bit 8\n",
    "FFT_FWD_INV_SHIFT    = 8\n",
    "FFT_SCALE_SCH_MASK   = 0x007FFE00 # Bits [22:9]\n",
    "FFT_SCALE_SCH_SHIFT  = 9\n",
    "FFT_INVERSE = 0\n",
    "FFT_FORWARD = 1\n",
    "\n",
    "# n = 64\n",
    "n = 1024 //2\n",
    "\n",
    "ol = Overlay(\"./bits/pynq_fft/pynq_fft.bit\", download=True)\n",
    "print(\"Download ok.\")\n",
    "# dir(ol)\n",
    "gpio = ol.axi_gpio_0\n",
    "\n",
    "def set_values(scale, fwd_inv, num_pts):\n",
    "    reg = 0;\n",
    "    reg = (scale << FFT_SCALE_SCH_SHIFT) & FFT_SCALE_SCH_MASK;\n",
    "    reg |= (fwd_inv << FFT_FWD_INV_SHIFT) & FFT_FWD_INV_MASK;\n",
    "    reg |= (int(math.log2(num_pts)) << FFT_NUM_PTS_SHIFT) & FFT_NUM_PTS_MASK;\n",
    "    gpio.write(0, reg)\n",
    "\n",
    "xlnk = Xlnk()\n",
    "# in_buf = xlnk.cma_array(shape=(n, ), dtype=np.int16)\n",
    "# out_buf = xlnk.cma_array(shape=(n, ), dtype=np.int16)\n",
    "in_buf = xlnk.cma_array(shape=(n, ), dtype=np.float)\n",
    "out_buf = xlnk.cma_array(shape=(n, ), dtype=np.float)\n",
    "\n",
    "# help(in_buf)\n",
    "\n",
    "for i in range(n):\n",
    "    # in_buf[i] = 1 / (i % 0xF + 1)\n",
    "    in_buf[i] = int(math.sin((i + 30) * 10 / 180) * 0xFF) - (0xFF // 2)\n",
    "    # in_buf[i] = int(math.sin((i + 30) * 20 / 90) * 0xFF) - (0xFF // 2)\n",
    "    # in_buf[i] = 0\n",
    "\n",
    "# print(in_buf[i])\n",
    "\n",
    "# np.copyto(out_buf, np.zeros(shape=(n, ), dtype=np.int16))\n",
    "np.copyto(out_buf, np.zeros(shape=(n, ), dtype=np.float))\n",
    "\n",
    "set_values(0x2AB, FFT_FORWARD, n)\n",
    "# set_values(0x01, FFT_FORWARD, n)\n",
    "\n",
    "time.sleep(0.3)\n",
    "\n",
    "dma = ol.dma_fft\n",
    "dma.sendchannel.transfer(in_buf)\n",
    "dma.recvchannel.transfer(out_buf)\n",
    "dma.sendchannel.wait()\n",
    "time.sleep(0.3)\n",
    "dma.recvchannel.wait()\n",
    "\n",
    "# print(in_buf, out_buf)\n",
    "\n",
    "data_in, data_out = np.copy(in_buf), np.copy(out_buf)\n",
    "dma.sendchannel.stop()\n",
    "dma.recvchannel.stop()\n",
    "in_buf.close()\n",
    "out_buf.close()\n",
    "\n",
    "print(\"in:\", data_in.shape, \"out:\", data_out.shape)\n",
    "\n",
    "with open(\"./test/in.dat\", \"w\") as f:\n",
    "    for i in data_in:\n",
    "        f.write(\"%s\\n\" % i)\n",
    "with open(\"./test/out.dat\", \"w\") as f:\n",
    "    for i in data_out:\n",
    "        f.write(\"%s\\n\" % i)\n",
    "\n",
    "print(\"All Done.\")"
   ]
  }
 ],
 "metadata": {
  "kernelspec": {
   "display_name": "Python 3",
   "language": "python",
   "name": "python3"
  },
  "language_info": {
   "codemirror_mode": {
    "name": "ipython",
    "version": 3
   },
   "file_extension": ".py",
   "mimetype": "text/x-python",
   "name": "python",
   "nbconvert_exporter": "python",
   "pygments_lexer": "ipython3",
   "version": "3.6.5"
  }
 },
 "nbformat": 4,
 "nbformat_minor": 2
}
