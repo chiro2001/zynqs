{
 "cells": [
  {
   "cell_type": "markdown",
   "metadata": {},
   "source": [
    "## 测试PTP部分"
   ]
  },
  {
   "cell_type": "code",
   "execution_count": 4,
   "metadata": {},
   "outputs": [],
   "source": [
    "from ptp import slave, master\n",
    "import threading\n",
    "\n",
    "ts = threading.Thread(target=slave.main)\n",
    "ts.setDaemon(True)\n",
    "tm = threading.Thread(target=master.main)\n",
    "tm.setDaemon(True)\n",
    "\n",
    "ts.start()\n",
    "tm.start()\n",
    "tm.join()\n",
    "ts.join()"
   ]
  }
 ],
 "metadata": {
  "kernelspec": {
   "display_name": "Python 3",
   "language": "python",
   "name": "python3"
  },
  "language_info": {
   "codemirror_mode": {
    "name": "ipython",
    "version": 3
   },
   "file_extension": ".py",
   "mimetype": "text/x-python",
   "name": "python",
   "nbconvert_exporter": "python",
   "pygments_lexer": "ipython3",
   "version": "3.6.5"
  }
 },
 "nbformat": 4,
 "nbformat_minor": 2
}
