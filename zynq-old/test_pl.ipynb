{
 "cells": [
  {
   "cell_type": "code",
   "execution_count": 13,
   "metadata": {},
   "outputs": [
    {
     "name": "stdout",
     "output_type": "stream",
     "text": [
      "['BS_BOOT', 'Bitstream', 'CPU_ARCH', 'CPU_ARCH_IS_SUPPORTED', 'Client', 'ElementTree', 'HWH', 'HWH_BOOT', 'Listener', 'MMIO', 'OVERLAY_BOOT', 'PL', 'PLMeta', 'PL_SERVER_FILE', 'PYNQ_PATH', 'TCL', 'TCL_BOOT', 'ZU_ARCH', 'ZYNQ_ARCH', '_HWHABC', '_HWHUltrascale', '_HWHZynq', '_TCLABC', '_TCLUltrascale', '_TCLZynq', '__author__', '__builtins__', '__cached__', '__copyright__', '__doc__', '__email__', '__file__', '__loader__', '__name__', '__package__', '__spec__', '_start_server', '_stop_server', 'abc', 'clear_state', 'datetime', 'deepcopy', 'get_hwh_name', 'get_tcl_name', 'locate_overlay', 'np', 'os', 're', 'string2int', 'struct', 'warnings']\n",
      "/usr/local/lib/python3.6/dist-packages/pynq/.log\n"
     ]
    }
   ],
   "source": [
    "import time\n",
    "from io import BytesIO\n",
    "import pynq\n",
    "from pynq import Overlay, DefaultIP\n",
    "\n",
    "def download(download=True):\n",
    "    overlay = Overlay(\"bits/pynq_ad_bram7/pynq_ad_bram7.bit\", download=False)\n",
    "    if download:\n",
    "        overlay.download()\n",
    "    return overlay\n",
    "\n",
    "pynq.pl.PL_SERVER_FILE = \"/usr/local/lib/python3.6/dist-packages/pynq/.log\"\n",
    "print(dir(pynq.pl))\n",
    "print(pynq.pl.PL_SERVER_FILE)\n",
    "ol = download(True)\n"
   ]
  }
 ],
 "metadata": {
  "kernelspec": {
   "display_name": "Python 3",
   "language": "python",
   "name": "python3"
  },
  "language_info": {
   "codemirror_mode": {
    "name": "ipython",
    "version": 3
   },
   "file_extension": ".py",
   "mimetype": "text/x-python",
   "name": "python",
   "nbconvert_exporter": "python",
   "pygments_lexer": "ipython3",
   "version": "3.6.5"
  }
 },
 "nbformat": 4,
 "nbformat_minor": 2
}
